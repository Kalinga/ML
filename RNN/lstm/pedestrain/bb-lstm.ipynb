{
 "cells": [
  {
   "cell_type": "code",
   "execution_count": 41,
   "metadata": {},
   "outputs": [],
   "source": [
    "#https://github.com/adventuresinML/adventures-in-ml-code/blob/master/keras_lstm.py\n",
    "    \n",
    "from math import sqrt\n",
    "from numpy import concatenate\n",
    "from matplotlib import pyplot\n",
    "\n",
    "from pandas import read_csv\n",
    "from pandas import DataFrame\n",
    "from pandas import concat\n",
    "\n",
    "# for scaling and inverse_transform\n",
    "from sklearn.preprocessing import MinMaxScaler\n",
    "from sklearn.preprocessing import LabelEncoder\n",
    "from sklearn.metrics import mean_squared_error\n",
    "\n",
    "from keras import backend as K\n",
    "from keras.models import Sequential\n",
    "from keras.layers import Dense\n",
    "from keras.layers import LSTM\n",
    "from keras.models import load_model\n",
    "\n",
    "from keras.callbacks import ModelCheckpoint, EarlyStopping, ReduceLROnPlateau, TerminateOnNaN, CSVLogger\n",
    "\n",
    "import pickle\n",
    "\n",
    "# convert series to supervised learning\n",
    "def series_to_supervised(data, n_in=1, n_out=1, dropnan=True):\n",
    "\tn_vars = 1 if type(data) is list else data.shape[1]\n",
    "\tdf = DataFrame(data)\n",
    "\tcols, names = list(), list()\n",
    "\t# input sequence (t-n, ... t-1)\n",
    "\tfor i in range(n_in, 0, -1): # range([start,] stop [, step])\n",
    "        # DataFrame.shift(periods=1, freq=None, axis=0), returns DataFrame\n",
    "\t\tcols.append(df.shift(i)) \n",
    "\t\tnames += [('var%d(t-%d)' % (j+1, i)) for j in range(n_vars)]\n",
    "\t# forecast sequence (t, t+1, ... t+n)\n",
    "\tfor i in range(0, n_out):\n",
    "\t\tcols.append(df.shift(-i))\n",
    "\t\tif i == 0:\n",
    "\t\t\tnames += [('var%d(t)' % (j+1)) for j in range(n_vars)]\n",
    "\t\telse:\n",
    "\t\t\tnames += [('var%d(t+%d)' % (j+1, i)) for j in range(n_vars)]\n",
    "\t# put it all together\n",
    "    #  concatenating along the columns (axis=1), a DataFrame is returned.\n",
    "\tagg = concat(cols, axis=1)\n",
    "\tagg.columns = names\n",
    "\t# drop rows with NaN values\n",
    "\tif dropnan:\n",
    "\t\tagg.dropna(inplace=True)\n",
    "\treturn agg\n"
   ]
  },
  {
   "cell_type": "code",
   "execution_count": 35,
   "metadata": {},
   "outputs": [
    {
     "name": "stdout",
     "output_type": "stream",
     "text": [
      "(84371, 4)\n",
      "[1900.  953. 1919. 1079.]\n",
      "[0. 0. 0. 0.]\n",
      "(84356, 64)\n",
      "(64372, 60) 64372 (64372, 4)\n",
      "(64372, 15, 4) (64372, 4) (19984, 15, 4) (19984, 4)\n"
     ]
    }
   ],
   "source": [
    "# load dataset\n",
    "dataset = read_csv('bb-cross-train.csv', header=0)\n",
    "values = dataset.values\n",
    "print(values.shape)\n",
    "\n",
    "# ensure all data is float\n",
    "values = values.astype('float32')\n",
    "\n",
    "# normalize features\n",
    "scaler = MinMaxScaler(feature_range=(0, 1))\n",
    "scaled = scaler.fit_transform(values)\n",
    "print(scaler.data_max_)\n",
    "print(scaler.data_min_)\n",
    "\n",
    "pickle.dump(scaler, open(\"min-max-scaler.pkl\", 'wb'))\n",
    "\n",
    "# specify the number of lag hours\n",
    "n_seq = 15\n",
    "n_features = 4\n",
    "# frame as supervised learning\n",
    "reframed = series_to_supervised(scaled, n_seq, 1)\n",
    "print(reframed.shape)\n",
    "\n",
    "# split into train and test sets\n",
    "values = reframed.values\n",
    "n_train_num = 84372 - 20000\n",
    "train = values[:n_train_num, :]\n",
    "val = values[n_train_num:, :]\n",
    "\n",
    "# split into input and outputs\n",
    "n_obs = n_seq * n_features\n",
    "train_X, train_y = train[:, :n_obs], train[:, n_obs:n_obs+n_features]\n",
    "val_X, val_y = val[:, :n_obs], val[:, n_obs:n_obs+n_features]\n",
    "print(train_X.shape, len(train_X), train_y.shape)\n",
    "\n",
    "# reshape input to be 3D [samples, timesteps, features]\n",
    "train_X = train_X.reshape((train_X.shape[0], n_seq, n_features))\n",
    "val_X = val_X.reshape((val_X.shape[0], n_seq, n_features))\n",
    "print(train_X.shape, train_y.shape, val_X.shape, val_y.shape)\n"
   ]
  },
  {
   "cell_type": "code",
   "execution_count": 36,
   "metadata": {
    "scrolled": true
   },
   "outputs": [
    {
     "data": {
      "text/plain": [
       "array([0.40842104, 0.71773344, 0.41010943, 0.6645042 ], dtype=float32)"
      ]
     },
     "execution_count": 36,
     "metadata": {},
     "output_type": "execute_result"
    }
   ],
   "source": [
    "scaled[0]"
   ]
  },
  {
   "cell_type": "code",
   "execution_count": 37,
   "metadata": {},
   "outputs": [
    {
     "data": {
      "text/plain": [
       "4"
      ]
     },
     "execution_count": 37,
     "metadata": {},
     "output_type": "execute_result"
    }
   ],
   "source": [
    "train_X.shape[2]"
   ]
  },
  {
   "cell_type": "code",
   "execution_count": 38,
   "metadata": {},
   "outputs": [
    {
     "data": {
      "text/plain": [
       "(19984, 15, 4)"
      ]
     },
     "execution_count": 38,
     "metadata": {},
     "output_type": "execute_result"
    }
   ],
   "source": [
    "val_X.shape"
   ]
  },
  {
   "cell_type": "code",
   "execution_count": 50,
   "metadata": {},
   "outputs": [],
   "source": [
    "# Define model callbacks.\n",
    "\n",
    "# TODO: Set the filepath under which you want to save the weights.\n",
    "model_checkpoint = ModelCheckpoint(filepath='conf2_bb_lstm_epoch-{epoch:02d}_loss-{loss:.4f}_val_loss-{val_loss:.4f}.h5',\n",
    "                                   monitor='val_loss',\n",
    "                                   verbose=1,\n",
    "                                   save_best_only=True,\n",
    "                                   save_weights_only=False,\n",
    "                                   mode='auto',\n",
    "                                   period=1)\n",
    "\n",
    "csv_logger = CSVLogger(filename='bb_lstm_training_log.csv',\n",
    "                       separator=',',\n",
    "                       append=True)\n",
    "\n",
    "early_stopping = EarlyStopping(monitor='val_loss',\n",
    "                               min_delta=0.0,\n",
    "                               patience=10,\n",
    "                               verbose=1)\n",
    "\n",
    "#reduce_learning_rate = ReduceLROnPlateau(monitor='val_loss',\n",
    "#                                         factor=0.2,\n",
    "#                                         patience=8,\n",
    "#                                         verbose=1,\n",
    "#                                         epsilon=0.001,\n",
    "#                                         cooldown=0,\n",
    "#                                         min_lr=0.00001)\n",
    "\n",
    "callbacks = [model_checkpoint,\n",
    "             csv_logger,\n",
    "             early_stopping\n",
    "             #reduce_learning_rate]\n",
    "            ]"
   ]
  },
  {
   "cell_type": "code",
   "execution_count": 51,
   "metadata": {
    "scrolled": true
   },
   "outputs": [
    {
     "name": "stdout",
     "output_type": "stream",
     "text": [
      "Train on 64372 samples, validate on 19984 samples\n",
      "Epoch 1/200\n",
      " - 28s - loss: 0.0512 - val_loss: 0.0267\n",
      "\n",
      "Epoch 00001: val_loss improved from inf to 0.02668, saving model to conf2_bb_lstm_epoch-01_loss-0.0512_val_loss-0.0267.h5\n",
      "Epoch 2/200\n",
      " - 27s - loss: 0.0235 - val_loss: 0.0268\n",
      "\n",
      "Epoch 00002: val_loss did not improve from 0.02668\n",
      "Epoch 3/200\n",
      " - 27s - loss: 0.0207 - val_loss: 0.0221\n",
      "\n",
      "Epoch 00003: val_loss improved from 0.02668 to 0.02211, saving model to conf2_bb_lstm_epoch-03_loss-0.0207_val_loss-0.0221.h5\n",
      "Epoch 4/200\n",
      " - 27s - loss: 0.0180 - val_loss: 0.0227\n",
      "\n",
      "Epoch 00004: val_loss did not improve from 0.02211\n",
      "Epoch 5/200\n",
      " - 27s - loss: 0.0165 - val_loss: 0.0174\n",
      "\n",
      "Epoch 00005: val_loss improved from 0.02211 to 0.01744, saving model to conf2_bb_lstm_epoch-05_loss-0.0165_val_loss-0.0174.h5\n",
      "Epoch 6/200\n",
      " - 27s - loss: 0.0159 - val_loss: 0.0155\n",
      "\n",
      "Epoch 00006: val_loss improved from 0.01744 to 0.01548, saving model to conf2_bb_lstm_epoch-06_loss-0.0159_val_loss-0.0155.h5\n",
      "Epoch 7/200\n",
      " - 27s - loss: 0.0157 - val_loss: 0.0159\n",
      "\n",
      "Epoch 00007: val_loss did not improve from 0.01548\n",
      "Epoch 8/200\n",
      " - 27s - loss: 0.0135 - val_loss: 0.0150\n",
      "\n",
      "Epoch 00008: val_loss improved from 0.01548 to 0.01499, saving model to conf2_bb_lstm_epoch-08_loss-0.0135_val_loss-0.0150.h5\n",
      "Epoch 9/200\n",
      " - 27s - loss: 0.0129 - val_loss: 0.0137\n",
      "\n",
      "Epoch 00009: val_loss improved from 0.01499 to 0.01371, saving model to conf2_bb_lstm_epoch-09_loss-0.0129_val_loss-0.0137.h5\n",
      "Epoch 10/200\n",
      " - 27s - loss: 0.0124 - val_loss: 0.0166\n",
      "\n",
      "Epoch 00010: val_loss did not improve from 0.01371\n",
      "Epoch 11/200\n",
      " - 27s - loss: 0.0119 - val_loss: 0.0159\n",
      "\n",
      "Epoch 00011: val_loss did not improve from 0.01371\n",
      "Epoch 12/200\n",
      " - 27s - loss: 0.0121 - val_loss: 0.0142\n",
      "\n",
      "Epoch 00012: val_loss did not improve from 0.01371\n",
      "Epoch 13/200\n",
      " - 27s - loss: 0.0119 - val_loss: 0.0198\n",
      "\n",
      "Epoch 00013: val_loss did not improve from 0.01371\n",
      "Epoch 14/200\n",
      " - 27s - loss: 0.0121 - val_loss: 0.0173\n",
      "\n",
      "Epoch 00014: val_loss did not improve from 0.01371\n",
      "Epoch 15/200\n",
      " - 27s - loss: 0.0118 - val_loss: 0.0163\n",
      "\n",
      "Epoch 00015: val_loss did not improve from 0.01371\n",
      "Epoch 16/200\n",
      " - 27s - loss: 0.0116 - val_loss: 0.0134\n",
      "\n",
      "Epoch 00016: val_loss improved from 0.01371 to 0.01337, saving model to conf2_bb_lstm_epoch-16_loss-0.0116_val_loss-0.0134.h5\n",
      "Epoch 17/200\n",
      " - 27s - loss: 0.0106 - val_loss: 0.0141\n",
      "\n",
      "Epoch 00017: val_loss did not improve from 0.01337\n",
      "Epoch 18/200\n",
      " - 27s - loss: 0.0104 - val_loss: 0.0123\n",
      "\n",
      "Epoch 00018: val_loss improved from 0.01337 to 0.01231, saving model to conf2_bb_lstm_epoch-18_loss-0.0104_val_loss-0.0123.h5\n",
      "Epoch 19/200\n",
      " - 27s - loss: 0.0103 - val_loss: 0.0105\n",
      "\n",
      "Epoch 00019: val_loss improved from 0.01231 to 0.01050, saving model to conf2_bb_lstm_epoch-19_loss-0.0103_val_loss-0.0105.h5\n",
      "Epoch 20/200\n",
      " - 27s - loss: 0.0096 - val_loss: 0.0126\n",
      "\n",
      "Epoch 00020: val_loss did not improve from 0.01050\n",
      "Epoch 21/200\n",
      " - 27s - loss: 0.0092 - val_loss: 0.0114\n",
      "\n",
      "Epoch 00021: val_loss did not improve from 0.01050\n",
      "Epoch 22/200\n",
      " - 27s - loss: 0.0092 - val_loss: 0.0103\n",
      "\n",
      "Epoch 00022: val_loss improved from 0.01050 to 0.01034, saving model to conf2_bb_lstm_epoch-22_loss-0.0092_val_loss-0.0103.h5\n",
      "Epoch 23/200\n",
      " - 27s - loss: 0.0087 - val_loss: 0.0089\n",
      "\n",
      "Epoch 00023: val_loss improved from 0.01034 to 0.00888, saving model to conf2_bb_lstm_epoch-23_loss-0.0087_val_loss-0.0089.h5\n",
      "Epoch 24/200\n",
      " - 27s - loss: 0.0086 - val_loss: 0.0113\n",
      "\n",
      "Epoch 00024: val_loss did not improve from 0.00888\n",
      "Epoch 25/200\n",
      " - 27s - loss: 0.0091 - val_loss: 0.0113\n",
      "\n",
      "Epoch 00025: val_loss did not improve from 0.00888\n",
      "Epoch 26/200\n",
      " - 27s - loss: 0.0087 - val_loss: 0.0105\n",
      "\n",
      "Epoch 00026: val_loss did not improve from 0.00888\n",
      "Epoch 27/200\n",
      " - 27s - loss: 0.0083 - val_loss: 0.0133\n",
      "\n",
      "Epoch 00027: val_loss did not improve from 0.00888\n",
      "Epoch 28/200\n",
      " - 27s - loss: 0.0083 - val_loss: 0.0109\n",
      "\n",
      "Epoch 00028: val_loss did not improve from 0.00888\n",
      "Epoch 29/200\n",
      " - 27s - loss: 0.0080 - val_loss: 0.0112\n",
      "\n",
      "Epoch 00029: val_loss did not improve from 0.00888\n",
      "Epoch 30/200\n",
      " - 27s - loss: 0.0078 - val_loss: 0.0108\n",
      "\n",
      "Epoch 00030: val_loss did not improve from 0.00888\n",
      "Epoch 31/200\n",
      " - 27s - loss: 0.0080 - val_loss: 0.0113\n",
      "\n",
      "Epoch 00031: val_loss did not improve from 0.00888\n",
      "Epoch 32/200\n",
      " - 27s - loss: 0.0080 - val_loss: 0.0095\n",
      "\n",
      "Epoch 00032: val_loss did not improve from 0.00888\n",
      "Epoch 33/200\n",
      " - 27s - loss: 0.0083 - val_loss: 0.0091\n",
      "\n",
      "Epoch 00033: val_loss did not improve from 0.00888\n",
      "Epoch 00033: early stopping\n"
     ]
    },
    {
     "data": {
      "image/png": "[encoded data removed]",
      "text/plain": [
       "<Figure size 432x288 with 1 Axes>"
      ]
     },
     "metadata": {
      "needs_background": "light"
     },
     "output_type": "display_data"
    }
   ],
   "source": [
    " # design network\n",
    "K.clear_session()  # Clear previous models from memory.    \n",
    "model = Sequential()\n",
    "model.add(LSTM(50, input_shape=(train_X.shape[1], train_X.shape[2])))\n",
    "model.add(Dense(4))\n",
    "model.compile(loss='mae', optimizer='adam')\n",
    "\n",
    "epochs = 200\n",
    "# fit network\n",
    "history = model.fit(train_X, train_y, \n",
    "                    epochs=epochs, \n",
    "                    batch_size=72, \n",
    "                    validation_data=(val_X, val_y), \n",
    "                    verbose=2,\n",
    "                    callbacks=callbacks,\n",
    "                    shuffle=False)\n",
    "\n",
    "# plot history\n",
    "pyplot.plot(history.history['loss'], label='train')\n",
    "pyplot.plot(history.history['val_loss'], label='test')\n",
    "pyplot.legend()\n",
    "pyplot.savefig(\"conf2-lstm-model.png\")\n",
    "pyplot.show()\n",
    "\n",
    "\n",
    "# save the model\n",
    "model.save(\"conf2-lstm-model.h5\")"
   ]
  },
  {
   "cell_type": "code",
   "execution_count": 52,
   "metadata": {},
   "outputs": [],
   "source": [
    "# save the model\n",
    "model.save(\"conf2-lstm-model.h5\")"
   ]
  },
  {
   "cell_type": "code",
   "execution_count": 57,
   "metadata": {},
   "outputs": [
    {
     "name": "stdout",
     "output_type": "stream",
     "text": [
      "204\n",
      "[1900.  953. 1919. 1079.]\n",
      "[0. 0. 0. 0.]\n",
      "(189, 64)\n",
      "(189, 60) 189 (189, 4)\n",
      "(189, 15, 4) (189, 4)\n"
     ]
    }
   ],
   "source": [
    "# load test dataset\n",
    "values = read_csv('bb-cross-test1.csv', header=0).values\n",
    "print(len(values))\n",
    "# ensure all data is float\n",
    "values = values.astype('float32')\n",
    "\n",
    "# normalize features\n",
    "\n",
    "scaled = scaler.transform(values)\n",
    "print(scaler.data_max_)\n",
    "print(scaler.data_min_)\n",
    "\n",
    "# specify the number of lag hours\n",
    "n_seq = 15\n",
    "n_features = 4\n",
    "# frame as supervised learning\n",
    "reframed = series_to_supervised(scaled, n_seq, 1)\n",
    "print(reframed.shape)\n",
    "values = reframed.values\n",
    "\n",
    "# split into input and outputs\n",
    "n_obs = n_seq * n_features\n",
    "test_X, test_y = values[:, :n_obs], values[:, n_obs:n_obs+n_features]\n",
    "print(test_X.shape, len(test_X), test_y.shape)\n",
    "\n",
    "# reshape input to be 3D [samples, timesteps, features]\n",
    "test_X = test_X.reshape((test_X.shape[0], n_seq, n_features))\n",
    "print(test_X.shape, test_y.shape)"
   ]
  },
  {
   "cell_type": "code",
   "execution_count": 58,
   "metadata": {},
   "outputs": [
    {
     "name": "stdout",
     "output_type": "stream",
     "text": [
      "Test RMSE: 4.749\n"
     ]
    }
   ],
   "source": [
    "K.clear_session()  # Clear previous models from memory.    \n",
    "model = load_model(\"conf2-lstm-model.h5\")\n",
    "# make a prediction\n",
    "yhat = model.predict(test_X)\n",
    "\n",
    "# invert scaling for forecast\n",
    "inv_yhat = scaler.inverse_transform(yhat)\n",
    "\n",
    "# invert scaling for actual\n",
    "inv_y = scaler.inverse_transform(test_y)\n",
    "\n",
    "# calculate RMSE\n",
    "rmse = sqrt(mean_squared_error(inv_y, inv_yhat))\n",
    "print('Test RMSE: %.3f' % rmse)"
   ]
  },
  {
   "cell_type": "code",
   "execution_count": 59,
   "metadata": {},
   "outputs": [
    {
     "data": {
      "text/plain": [
       "(189, 15, 4)"
      ]
     },
     "execution_count": 59,
     "metadata": {},
     "output_type": "execute_result"
    }
   ],
   "source": [
    "test_X.shape"
   ]
  },
  {
   "cell_type": "code",
   "execution_count": 60,
   "metadata": {},
   "outputs": [
    {
     "data": {
      "text/plain": [
       "array([[0.3368421 , 0.70094436, 0.34601355, 0.67191845],\n",
       "       [0.33631578, 0.6977964 , 0.34549242, 0.67099166],\n",
       "       [0.33631578, 0.6956978 , 0.34549242, 0.67006487],\n",
       "       [0.33578947, 0.6935991 , 0.34497133, 0.6691381 ],\n",
       "       [0.33578947, 0.6925498 , 0.34445024, 0.6691381 ],\n",
       "       [0.33526313, 0.6915005 , 0.3439291 , 0.6691381 ],\n",
       "       [0.33526313, 0.6915005 , 0.3439291 , 0.6691381 ],\n",
       "       [0.33473682, 0.6956978 , 0.34340802, 0.6691381 ],\n",
       "       [0.33473682, 0.699895  , 0.34340802, 0.67099166],\n",
       "       [0.33421052, 0.703043  , 0.3428869 , 0.67191845],\n",
       "       [0.33421052, 0.70619094, 0.3428869 , 0.67284524],\n",
       "       [0.3336842 , 0.70828956, 0.3423658 , 0.67469877],\n",
       "       [0.3336842 , 0.7093389 , 0.3418447 , 0.67562556],\n",
       "       [0.33315787, 0.7103882 , 0.34132358, 0.67840594],\n",
       "       [0.33263156, 0.7114375 , 0.3408025 , 0.68118626]], dtype=float32)"
      ]
     },
     "execution_count": 60,
     "metadata": {},
     "output_type": "execute_result"
    }
   ],
   "source": [
    "test_X[0]"
   ]
  },
  {
   "cell_type": "code",
   "execution_count": 61,
   "metadata": {},
   "outputs": [
    {
     "data": {
      "text/plain": [
       "(189, 4)"
      ]
     },
     "execution_count": 61,
     "metadata": {},
     "output_type": "execute_result"
    }
   ],
   "source": [
    "yhat.shape"
   ]
  },
  {
   "cell_type": "code",
   "execution_count": 151,
   "metadata": {},
   "outputs": [],
   "source": [
    "import numpy as np\n",
    "yhat =  model.predict(np.expand_dims(test_X[0], axis=0))"
   ]
  },
  {
   "cell_type": "code",
   "execution_count": 152,
   "metadata": {},
   "outputs": [],
   "source": [
    "inv_yhat = scaler.inverse_transform(yhat)"
   ]
  },
  {
   "cell_type": "code",
   "execution_count": 153,
   "metadata": {},
   "outputs": [
    {
     "data": {
      "text/plain": [
       "array([[1122.4075,  692.9786, 1214.8446,  859.0956]], dtype=float32)"
      ]
     },
     "execution_count": 153,
     "metadata": {},
     "output_type": "execute_result"
    }
   ],
   "source": [
    "inv_yhat"
   ]
  },
  {
   "cell_type": "code",
   "execution_count": null,
   "metadata": {},
   "outputs": [],
   "source": []
  }
 ],
 "metadata": {
  "kernelspec": {
   "display_name": "Python 3",
   "language": "python",
   "name": "python3"
  },
  "language_info": {
   "codemirror_mode": {
    "name": "ipython",
    "version": 3
   },
   "file_extension": ".py",
   "mimetype": "text/x-python",
   "name": "python",
   "nbconvert_exporter": "python",
   "pygments_lexer": "ipython3",
   "version": "3.5.2"
  }
 },
 "nbformat": 4,
 "nbformat_minor": 2
}
