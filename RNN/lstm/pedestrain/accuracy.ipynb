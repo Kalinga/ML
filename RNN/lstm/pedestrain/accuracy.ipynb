{
 "cells": [
  {
   "cell_type": "code",
   "execution_count": 124,
   "metadata": {},
   "outputs": [],
   "source": [
    "from os.path import join, basename, abspath, exists\n",
    "from os import listdir, makedirs\n",
    "\n",
    "from keras import backend as K\n",
    "from keras.models import load_model\n",
    "\n",
    "from matplotlib import pyplot as plt\n",
    "import pandas as pd\n",
    "import numpy as np\n",
    "import cv2\n",
    "from statistics import mean \n",
    "\n",
    "import time\n",
    "import pickle\n",
    "\n",
    "from jaad_data import JAAD"
   ]
  },
  {
   "cell_type": "code",
   "execution_count": 125,
   "metadata": {},
   "outputs": [],
   "source": [
    "def bb_intersection_over_union(boxA, boxB):\n",
    "\t# determine the (x, y)-coordinates of the intersection rectangle\n",
    "\txA = max(boxA[0], boxB[0])\n",
    "\tyA = max(boxA[1], boxB[1])\n",
    "\txB = min(boxA[2], boxB[2])\n",
    "\tyB = min(boxA[3], boxB[3])\n",
    " \n",
    "\t# compute the area of intersection rectangle\n",
    "\tinterArea = max(0, xB - xA + 1) * max(0, yB - yA + 1)\n",
    " \n",
    "\t# compute the area of both the prediction and ground-truth\n",
    "\t# rectangles\n",
    "\tboxAArea = (boxA[2] - boxA[0] + 1) * (boxA[3] - boxA[1] + 1)\n",
    "\tboxBArea = (boxB[2] - boxB[0] + 1) * (boxB[3] - boxB[1] + 1)\n",
    " \n",
    "\t# compute the intersection over union by taking the intersection\n",
    "\t# area and dividing it by the sum of prediction + ground-truth\n",
    "\t# areas - the interesection area\n",
    "\tiou = interArea / float(boxAArea + boxBArea - interArea)\n",
    " \n",
    "\t# return the intersection over union value\n",
    "\treturn iou"
   ]
  },
  {
   "cell_type": "code",
   "execution_count": 126,
   "metadata": {},
   "outputs": [],
   "source": [
    "model_path = \"30f_future_epoch-107_loss-0.0503_val_loss-0.0645.h5\"\n",
    "model = load_model(model_path)\n",
    "n_seq = 30\n",
    "n_seq_future = 30"
   ]
  },
  {
   "cell_type": "code",
   "execution_count": 127,
   "metadata": {},
   "outputs": [],
   "source": [
    "jaad_path = \"/home/kara9147/jaad2\"\n",
    "annotation_path = join(jaad_path, 'annotations')\n",
    "imdb = JAAD(data_path = jaad_path)"
   ]
  },
  {
   "cell_type": "code",
   "execution_count": 128,
   "metadata": {},
   "outputs": [],
   "source": [
    "videos = [\"video_0%s\"%str(i) for i in range(317,347)]"
   ]
  },
  {
   "cell_type": "code",
   "execution_count": 129,
   "metadata": {},
   "outputs": [
    {
     "data": {
      "text/plain": [
       "30"
      ]
     },
     "execution_count": 129,
     "metadata": {},
     "output_type": "execute_result"
    }
   ],
   "source": [
    "len(videos)"
   ]
  },
  {
   "cell_type": "code",
   "execution_count": 139,
   "metadata": {},
   "outputs": [
    {
     "name": "stdout",
     "output_type": "stream",
     "text": [
      "0_319_2548b\n",
      "['0_319_2548b']\n"
     ]
    }
   ],
   "source": [
    "v = 2\n",
    "vid = videos[v]\n",
    "anno = imdb._get_annotations(vid)\n",
    "\n",
    "bb_cross={}\n",
    "ped_b = [k for k,v in anno[\"ped_annotations\"].items() if k.endswith('b')]\n",
    "\n",
    "for i, p in enumerate(ped_b):\n",
    "    #if (1 in anno[\"ped_annotations\"][p][\"behavior\"][\"cross\"]):\n",
    "        bb_cross[p] = (anno[\"ped_annotations\"][p][\"bbox\"])\n",
    "        print(p)\n",
    "print(ped_b)\n",
    "#for k,v in bb_cross.items():\n",
    "#    print(k)\n",
    "\n",
    "avg_prediction_speed = list()\n",
    "accuracy = list()\n",
    "pickle_in = open(\"min-max-scaler.pkl\",\"rb\")\n",
    "scaler = pickle.load(pickle_in)"
   ]
  },
  {
   "cell_type": "code",
   "execution_count": 140,
   "metadata": {},
   "outputs": [
    {
     "name": "stdout",
     "output_type": "stream",
     "text": [
      "2 0_319_2548b\n",
      "<class 'list'>\n",
      "total #prediction: 56\n",
      "total time: 0.884672\n",
      "avg prediction speed: 0.015798\n",
      "total positive: 16\n",
      "accuracy: 0.285714\n",
      "0.015797717230660573\n",
      "0.2857142857142857\n"
     ]
    }
   ],
   "source": [
    "for p in ped_b:\n",
    "    print(v, p)\n",
    "    start = [0,0,0,0]\n",
    "    lstm_seq = ( bb_cross[p])\n",
    "    lstm_seq.insert(0, start)\n",
    "    print(type(lstm_seq))\n",
    "    frames = (anno['ped_annotations'][p]['frames'][0],\n",
    "    len(anno['ped_annotations'][p]['frames']))\n",
    "\n",
    "    df = pd.DataFrame(lstm_seq)\n",
    "    df = df.astype('float32')\n",
    "    \n",
    "    #print(type(scaler))\n",
    "    #print(scaler.data_max_)\n",
    "    #print(scaler.data_min_)\n",
    "\n",
    "    lstm_seq = scaler.transform(lstm_seq)\n",
    "    pred = True\n",
    "    i = 0\n",
    "    total_time = 0.0\n",
    "    total_positive = 0\n",
    "\n",
    "    while( i < lstm_seq.shape[0] - (n_seq + n_seq_future) -1):\n",
    "        batch = lstm_seq[i:i + n_seq] # n_seq number of element with last index (n_seq-1)\n",
    "\n",
    "        current = time.time()\n",
    "        ##################################PREDICTION######################\n",
    "        y_hat = model.predict(np.expand_dims(batch, axis=0))\n",
    "        #print(y_hat)\n",
    "        #print(len(batch))\n",
    "\n",
    "        end = time.time()\n",
    "        diff = end - current\n",
    "        total_time  = total_time  + diff\n",
    "        #print(end - current)\n",
    "        #print(\"Time spent for predicting: {0}\".format(diff))\n",
    "\n",
    "        # Decode the raw prediction `y_pred`\n",
    "        inv_yhat = scaler.inverse_transform(y_hat)[0]\n",
    "        #print(inv_yhat)\n",
    "\n",
    "        # future bounding box from gt\n",
    "\n",
    "        boxA =  df[i+(n_seq + n_seq_future) - 1 :i + (n_seq + n_seq_future)].values[0]\n",
    "        # future bounding box from prediction\n",
    "        boxB = inv_yhat\n",
    "\n",
    "        #print(boxA)\n",
    "        #print(boxB)\n",
    "\n",
    "        score = bb_intersection_over_union(boxA, boxB)\n",
    "        if score > 0.5 :\n",
    "            total_positive += 1\n",
    "\n",
    "        # for the next bb\n",
    "        i = i + 1\n",
    "\n",
    "    print (\"total #prediction: %d\" % i)\n",
    "    print (\"total time: %f\" % total_time)\n",
    "    print (\"avg prediction speed: %f\" % (total_time / i))\n",
    "    print (\"total positive: %d\" % total_positive)\n",
    "    print (\"accuracy: %f\" % (total_positive / i))\n",
    "\n",
    "    avg_prediction_speed.append(total_time / i) \n",
    "    accuracy.append(total_positive / i)\n",
    "print(mean(avg_prediction_speed))\n",
    "print(mean(accuracy))"
   ]
  },
  {
   "cell_type": "code",
   "execution_count": 122,
   "metadata": {},
   "outputs": [],
   "source": [
    "#i = 0\n",
    "\n",
    "#while( i < lstm_seq.shape[0] - (n_seq + n_seq_future)  - 1):\n",
    "#    print(i)\n",
    "#    print(lstm_seq[i+59:i+60])\n",
    "#    print(reframed.iloc[i:i+1, n_seq*4:n_seq*4 + 4]) \n",
    "#    i = i + 1\n"
   ]
  },
  {
   "cell_type": "code",
   "execution_count": 111,
   "metadata": {},
   "outputs": [
    {
     "name": "stdout",
     "output_type": "stream",
     "text": [
      "total #prediction: 180\n",
      "total time: 3.160366\n",
      "avg prediction speed: 0.017558\n",
      "total positive: 176\n",
      "accuracy: 0.977778\n"
     ]
    }
   ],
   "source": []
  }
 ],
 "metadata": {
  "kernelspec": {
   "display_name": "Python 3",
   "language": "python",
   "name": "python3"
  },
  "language_info": {
   "codemirror_mode": {
    "name": "ipython",
    "version": 3
   },
   "file_extension": ".py",
   "mimetype": "text/x-python",
   "name": "python",
   "nbconvert_exporter": "python",
   "pygments_lexer": "ipython3",
   "version": "3.5.2"
  }
 },
 "nbformat": 4,
 "nbformat_minor": 2
}
