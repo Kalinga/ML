{
 "cells": [
  {
   "cell_type": "code",
   "execution_count": 15,
   "metadata": {},
   "outputs": [],
   "source": [
    "# Snippets taken from Adrian's blog on \n",
    "# https://www.pyimagesearch.com/2019/07/08/keras-imagedatagenerator-and-data-augmentation/\n",
    "# import the necessary packages\n",
    "from keras.preprocessing.image import ImageDataGenerator\n",
    "from keras.preprocessing.image import img_to_array\n",
    "from keras.preprocessing.image import load_img\n",
    "import numpy as np"
   ]
  },
  {
   "cell_type": "code",
   "execution_count": 25,
   "metadata": {},
   "outputs": [
    {
     "name": "stdout",
     "output_type": "stream",
     "text": [
      "[INFO] loading example image...\n",
      "(375, 499, 3)\n",
      "(1, 375, 499, 3)\n"
     ]
    }
   ],
   "source": [
    "args = {}\n",
    "args[\"image\"] = \"../image_data_generator/dog.jpg\"\n",
    "args[\"output\"] = \"../image_data_generator/output\"\n",
    "args[\"total\"] = 100\n",
    "\n",
    "# load the input image, convert it to a NumPy array, and then\n",
    "# reshape it to have an extra dimension\n",
    "print(\"[INFO] loading example image...\")\n",
    "image = load_img(args[\"image\"])\n",
    "image = img_to_array(image)\n",
    "print(image.shape)\n",
    "image = np.expand_dims(image, axis=0)\n",
    "print(image.shape)\n",
    " \n",
    "# construct the image generator for data augmentation then\n",
    "# initialize the total number of images generated thus far\n",
    "aug = ImageDataGenerator(\n",
    "\trotation_range=30,\n",
    "\tzoom_range=0.15,\n",
    "\twidth_shift_range=0.2,\n",
    "\theight_shift_range=0.2,\n",
    "\tshear_range=0.15,\n",
    "\thorizontal_flip=True,\n",
    "\tfill_mode=\"nearest\")\n",
    "total = 0"
   ]
  },
  {
   "cell_type": "code",
   "execution_count": 26,
   "metadata": {},
   "outputs": [
    {
     "name": "stdout",
     "output_type": "stream",
     "text": [
      "[INFO] generating images...\n",
      "<class 'keras_preprocessing.image.numpy_array_iterator.NumpyArrayIterator'>\n"
     ]
    }
   ],
   "source": [
    "# construct the actual Python generator\n",
    "print(\"[INFO] generating images...\")\n",
    "imageGen = aug.flow(image, batch_size=1, save_to_dir=args[\"output\"],\n",
    "\tsave_prefix=\"dog\", save_format=\"jpg\")\n",
    "print(type(imageGen))\n",
    "\n",
    " \n"
   ]
  },
  {
   "cell_type": "code",
   "execution_count": 27,
   "metadata": {},
   "outputs": [],
   "source": [
    "# loop over examples from our image data augmentation generator\n",
    "for image in imageGen:\n",
    "\t#print(image.shape)\n",
    "\n",
    "\t# increment our counter\n",
    "\ttotal += 1\n",
    " \n",
    "\t# if we have reached the specified number of examples, break\n",
    "\t# from the loop\n",
    "\tif total == args[\"total\"]:\n",
    "\t\tbreak"
   ]
  },
  {
   "cell_type": "code",
   "execution_count": null,
   "metadata": {},
   "outputs": [],
   "source": []
  },
  {
   "cell_type": "code",
   "execution_count": null,
   "metadata": {},
   "outputs": [],
   "source": []
  }
 ],
 "metadata": {
  "kernelspec": {
   "display_name": "Python 3",
   "language": "python",
   "name": "python3"
  },
  "language_info": {
   "codemirror_mode": {
    "name": "ipython",
    "version": 3
   },
   "file_extension": ".py",
   "mimetype": "text/x-python",
   "name": "python",
   "nbconvert_exporter": "python",
   "pygments_lexer": "ipython3",
   "version": "3.5.2"
  }
 },
 "nbformat": 4,
 "nbformat_minor": 2
}
